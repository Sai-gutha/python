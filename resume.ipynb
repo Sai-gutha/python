{
 "cells": [
  {
   "cell_type": "code",
   "execution_count": 1,
   "id": "bb33facf",
   "metadata": {},
   "outputs": [
    {
     "name": "stdout",
     "output_type": "stream",
     "text": [
      "Requirement already satisfied: python-docx in c:\\users\\gutha\\anaconda3\\lib\\site-packages (1.1.2)\n",
      "Requirement already satisfied: lxml>=3.1.0 in c:\\users\\gutha\\anaconda3\\lib\\site-packages (from python-docx) (4.9.3)\n",
      "Requirement already satisfied: typing-extensions>=4.9.0 in c:\\users\\gutha\\anaconda3\\lib\\site-packages (from python-docx) (4.12.2)\n",
      "Note: you may need to restart the kernel to use updated packages.\n"
     ]
    }
   ],
   "source": [
    "pip install python-docx"
   ]
  },
  {
   "cell_type": "code",
   "execution_count": 2,
   "id": "8579b33d",
   "metadata": {},
   "outputs": [],
   "source": [
    "from docx import Document\n",
    "from docx.shared import Pt"
   ]
  },
  {
   "cell_type": "code",
   "execution_count": 3,
   "id": "93dde7c2",
   "metadata": {
    "scrolled": true
   },
   "outputs": [
    {
     "name": "stdout",
     "output_type": "stream",
     "text": [
      "Document 'saigutha CV.docx' has been created/updated.\n"
     ]
    }
   ],
   "source": [
    "from docx import Document\n",
    "import os\n",
    "\n",
    "def create_or_update_resume(file_name, personal_info, summary, education, experience, publications, skills, projects):\n",
    "    try:\n",
    "        document = Document(file_name)\n",
    "    except:\n",
    "        document = Document()\n",
    "    \n",
    "    # Clear existing content (optional)\n",
    "    document._body.clear_content()\n",
    "\n",
    "    # Add or update personal information\n",
    "    document.add_heading('Resume', 0)\n",
    "    document.add_heading('Personal Information', level=1)\n",
    "    for key, value in personal_info.items():\n",
    "        document.add_paragraph(f\"{key}: {value}\")\n",
    "    \n",
    "    # Add or update summary\n",
    "    document.add_heading('Summary', level=1)\n",
    "    for sum in summary:\n",
    "        document.add_paragraph(sum)\n",
    "    \n",
    "    # Add or update education\n",
    "    document.add_heading('Education', level=1)\n",
    "    for edu in education:\n",
    "        p = document.add_paragraph()\n",
    "        p.add_run(edu['degree']).bold = True\n",
    "        p.add_run(f\" - {edu['institution']} ({edu['year']})\")\n",
    "        p.add_run(f\"\\n{edu['details']}\")\n",
    "    \n",
    "    # Add or update experience\n",
    "    document.add_heading('Experience', level=1)\n",
    "    for exp in experience:\n",
    "        p = document.add_paragraph()\n",
    "        p.add_run(exp['position']).bold = True\n",
    "        p.add_run(f\" - {exp['company']} ({exp['years']})\")\n",
    "        p.add_run(f\"\\n{exp['details']}\")\n",
    "        \n",
    "    # Add or update publications\n",
    "    document.add_heading('Publications', level=1)\n",
    "    publications_paragraph = document.add_paragraph(', '.join(publications))\n",
    "    \n",
    "    # Add or update skills\n",
    "    document.add_heading('Skills', level=1)\n",
    "    skills_paragraph = document.add_paragraph(', '.join(skills))\n",
    "    \n",
    "    # Add or update projects\n",
    "    document.add_heading('Projects', level=1)\n",
    "    projects_paragraph = document.add_paragraph(', '.join(projects))\n",
    "    \n",
    "    # Save the document\n",
    "    document.save(file_name)\n",
    "    print(f\"Document '{file_name}' has been created/updated.\")\n",
    "\n",
    "# Example data\n",
    "personal_info = {\n",
    "    \"Name\": \"John Doe\",\n",
    "    \"Address\": \"123 Main St, Anytown, USA\",\n",
    "    \"Phone\": \"555-555-5555\",\n",
    "    \"Email\": \"john.doe@example.com\"\n",
    "}\n",
    "\n",
    "summary = [\"Experienced software developer with expertise in Python and JavaScript.\", \n",
    "           \"Proven track record of developing scalable web applications.\"]\n",
    "\n",
    "education = [\n",
    "    {\n",
    "        \"degree\": \"BS in Computer Science\",\n",
    "        \"institution\": \"Jawharlal Nehru Technological University\",\n",
    "        \"year\": \"2022\",\n",
    "        \"details\": \"Graduated with honors, GPA: 2.6\"\n",
    "    },\n",
    "    {\n",
    "        \"degree\": \"MS in Information Systems\",\n",
    "        \"institution\": \"Wilmington University\",\n",
    "        \"year\": \"2025\",\n",
    "        \"details\": \"Specialized in Information Assurance, GPA: 3.7\"\n",
    "    }\n",
    "]\n",
    "\n",
    "experience = [\n",
    "    {\n",
    "        \"position\": \"Project Intern\",\n",
    "        \"company\": \"IHub Data - IIIT Hyderabad\",\n",
    "        \"years\": \"2022-2023\",\n",
    "        \"details\": \"Developed and managed the databases of mongodb and authentication and tested the code.\"\n",
    "    }\n",
    "]\n",
    "\n",
    "publications = [\n",
    "    \"Doe, J. (2021). Innovative Web Development Techniques. Journal of Web Development.\",\n",
    "    \"Doe, J. (2022). Cloud Computing Strategies. Software Engineering Journal.\"\n",
    "]\n",
    "\n",
    "skills = [\"Python\", \"JavaScript\", \"Cloud Computing\", \"Web Development\"]\n",
    "\n",
    "projects = [\n",
    "    \"Project A: Developed a scalable e-commerce platform.\",\n",
    "    \"Project B: Created a cloud-based file storage system.\"\n",
    "]\n",
    "\n",
    "# Create or update the resume\n",
    "create_or_update_resume('saigutha CV.docx', personal_info, summary, education, experience, publications, skills, projects)\n"
   ]
  },
  {
   "cell_type": "code",
   "execution_count": null,
   "id": "6e394a93",
   "metadata": {},
   "outputs": [],
   "source": []
  }
 ],
 "metadata": {
  "kernelspec": {
   "display_name": "Python 3 (ipykernel)",
   "language": "python",
   "name": "python3"
  },
  "language_info": {
   "codemirror_mode": {
    "name": "ipython",
    "version": 3
   },
   "file_extension": ".py",
   "mimetype": "text/x-python",
   "name": "python",
   "nbconvert_exporter": "python",
   "pygments_lexer": "ipython3",
   "version": "3.11.5"
  }
 },
 "nbformat": 4,
 "nbformat_minor": 5
}

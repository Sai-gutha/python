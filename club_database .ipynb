{
 "cells": [
  {
   "cell_type": "code",
   "execution_count": 3,
   "id": "6c6b9aba-20cf-4ff4-b44f-621b3425b03d",
   "metadata": {},
   "outputs": [],
   "source": [
    "import pymongo\n",
    "from pymongo import MongoClient"
   ]
  },
  {
   "cell_type": "markdown",
   "id": "2dcd5edf-81b3-4dbb-a3fe-4a38c99d6672",
   "metadata": {},
   "source": [
    "### Creating and inserting data in databases and collections"
   ]
  },
  {
   "cell_type": "code",
   "execution_count": 9,
   "id": "9095d15c-588f-4ecb-8624-4994405b26b7",
   "metadata": {
    "panel-layout": {
     "height": 0,
     "visible": true,
     "width": 100
    }
   },
   "outputs": [
    {
     "name": "stdout",
     "output_type": "stream",
     "text": [
      "created successfully\n"
     ]
    }
   ],
   "source": [
    "client = MongoClient(\"mongodb://localhost:27017/\")\n",
    "\n",
    "db = client[\"club_database\"]\n",
    "\n",
    "members_collection = db[\"members\"]\n",
    "membership_status_collection = db[\"membership_status\"]\n",
    "payments_collection = db[\"payments\"]\n",
    "subscriptions_collection = db[\"subscriptions\"]\n",
    "events_collection = db[\"events\"]\n",
    "\n",
    "# Define sample member document\n",
    "member = {\n",
    "    \"member_id\": 1,\n",
    "    \"name\": \"John Doe\",\n",
    "    \"email\": \"john.doe@example.com\",\n",
    "    \"phone\": \"123-456-7890\",\n",
    "    \"membership_status\": \"active\",  # This could reference membership_status collection\n",
    "    \"subscription_id\": 101,         # This could reference subscriptions collection\n",
    "    \"events_registered\": [201, 202] # List of event IDs\n",
    "}\n",
    "\n",
    "# Insert member document\n",
    "members_collection.insert_one(member)\n",
    "\n",
    "# Define sample membership status document\n",
    "membership_status = {\n",
    "    \"status_id\": 1,\n",
    "    \"status_name\": \"active\",\n",
    "    \"description\": \"Active membership status\"\n",
    "}\n",
    "\n",
    "# Insert membership status document\n",
    "membership_status_collection.insert_one(membership_status)\n",
    "\n",
    "# Define sample payment document\n",
    "payment = {\n",
    "    \"payment_id\": 1,\n",
    "    \"member_id\": 1,  # This references the members collection\n",
    "    \"amount\": 100.0,\n",
    "    \"date\": \"2024-01-01\",\n",
    "    \"status\": \"completed\"\n",
    "}\n",
    "\n",
    "# Insert payment document\n",
    "payments_collection.insert_one(payment)\n",
    "\n",
    "# Define sample subscription document\n",
    "subscription = {\n",
    "    \"subscription_id\": 101,\n",
    "    \"member_id\": 1,  # This references the members collection\n",
    "    \"start_date\": \"2024-01-01\",\n",
    "    \"end_date\": \"2025-01-01\",\n",
    "    \"status\": \"active\"\n",
    "}\n",
    "\n",
    "# Insert subscription document\n",
    "subscriptions_collection.insert_one(subscription)\n",
    "\n",
    "# Define sample event document\n",
    "event = {\n",
    "    \"event_id\": 201,\n",
    "    \"name\": \"Annual Meetup\",\n",
    "    \"date\": \"2024-12-01\",\n",
    "    \"location\": \"Club Hall\",\n",
    "    \"members_registered\": [1]  # List of member IDs\n",
    "}\n",
    "\n",
    "# Insert event document\n",
    "events_collection.insert_one(event)\n",
    "\n",
    "\n",
    "\n",
    "\n",
    "\n",
    "print(\"created successfully\")"
   ]
  },
  {
   "cell_type": "code",
   "execution_count": null,
   "id": "a5b61c76-8531-4bb9-aa7f-50e9a26f1537",
   "metadata": {},
   "outputs": [],
   "source": []
  }
 ],
 "metadata": {
  "kernelspec": {
   "display_name": "Python 3 (ipykernel)",
   "language": "python",
   "name": "python3"
  },
  "language_info": {
   "codemirror_mode": {
    "name": "ipython",
    "version": 3
   },
   "file_extension": ".py",
   "mimetype": "text/x-python",
   "name": "python",
   "nbconvert_exporter": "python",
   "pygments_lexer": "ipython3",
   "version": "3.13.2"
  },
  "panel-cell-order": [
   "9095d15c-588f-4ecb-8624-4994405b26b7"
  ]
 },
 "nbformat": 4,
 "nbformat_minor": 5
}

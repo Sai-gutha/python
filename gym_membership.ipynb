{
 "cells": [
  {
   "cell_type": "markdown",
   "id": "ffdfa58c-4694-4efd-b8d4-05a2f89e8881",
   "metadata": {},
   "source": [
    "## creating a mongodb database and collection"
   ]
  },
  {
   "cell_type": "code",
   "execution_count": 6,
   "id": "4ca2f6e6-56e7-4561-8e67-fe8d8d9e5317",
   "metadata": {},
   "outputs": [
    {
     "name": "stdout",
     "output_type": "stream",
     "text": [
      "data inserted successfully\n"
     ]
    }
   ],
   "source": [
    "import pymongo\n",
    "from pymongo import MongoClient\n",
    "\n",
    "# connect to MongoDB\n",
    "client = MongoClient(\"mongodb://localhost:27017/\")\n",
    "\n",
    "db = client['gym_membership']\n",
    "collection = db['members']\n",
    "\n",
    "collection.insert_one({'name': 'sai', 'age': 20})\n",
    "\n",
    "print(\"data inserted successfully\")"
   ]
  },
  {
   "cell_type": "markdown",
   "id": "c22d28e1-1702-4050-ab3a-f24c6af61987",
   "metadata": {},
   "source": [
    "## data inserting using CSV file"
   ]
  },
  {
   "cell_type": "code",
   "execution_count": 8,
   "id": "efedfa52-2c52-4040-bd97-d0ec4d6df043",
   "metadata": {},
   "outputs": [
    {
     "name": "stdout",
     "output_type": "stream",
     "text": [
      "Data from csv file:\n",
      "   id  gender    birthday  Age abonoment_type  visit_per_week  \\\n",
      "0   1  Female  1997-04-18   27        Premium               4   \n",
      "1   2  Female  1977-09-18   47       Standard               3   \n",
      "2   3    Male  1983-03-30   41        Premium               1   \n",
      "3   4    Male  1980-04-12   44        Premium               3   \n",
      "4   5    Male  1980-09-10   44       Standard               2   \n",
      "\n",
      "        days_per_week  attend_group_lesson            fav_group_lesson  \\\n",
      "0  Mon, Sat, Tue, Wed                 True  Kickboxen, BodyPump, Zumba   \n",
      "1       Mon, Sat, Wed                False                         NaN   \n",
      "2                 Sat                 True                       XCore   \n",
      "3       Sat, Tue, Wed                False                         NaN   \n",
      "4            Thu, Wed                 True        Running, Yoga, Zumba   \n",
      "\n",
      "  avg_time_check_in avg_time_check_out  avg_time_in_gym  drink_abo  \\\n",
      "0          19:31:00           21:27:00              116      False   \n",
      "1          19:31:00           20:19:00               48      False   \n",
      "2          08:29:00           10:32:00              123       True   \n",
      "3          09:54:00           11:33:00               99       True   \n",
      "4          08:29:00           09:19:00               50      False   \n",
      "\n",
      "            fav_drink  personal_training name_personal_trainer  uses_sauna  \n",
      "0                 NaN              False                   NaN        True  \n",
      "1                 NaN               True               Chantal       False  \n",
      "2  berry_boost, lemon               True                  Mike       False  \n",
      "3       passion_fruit               True                  Mike        True  \n",
      "4                 NaN               True                  Mike       False  \n",
      "Inserted document IDs: [ObjectId('67d62e4ebbe7cba8f03e0842'), ObjectId('67d62e4ebbe7cba8f03e0843'), ObjectId('67d62e4ebbe7cba8f03e0844'), ObjectId('67d62e4ebbe7cba8f03e0845'), ObjectId('67d62e4ebbe7cba8f03e0846'), ObjectId('67d62e4ebbe7cba8f03e0847'), ObjectId('67d62e4ebbe7cba8f03e0848'), ObjectId('67d62e4ebbe7cba8f03e0849'), ObjectId('67d62e4ebbe7cba8f03e084a'), ObjectId('67d62e4ebbe7cba8f03e084b'), ObjectId('67d62e4ebbe7cba8f03e084c'), ObjectId('67d62e4ebbe7cba8f03e084d'), ObjectId('67d62e4ebbe7cba8f03e084e'), ObjectId('67d62e4ebbe7cba8f03e084f'), ObjectId('67d62e4ebbe7cba8f03e0850'), ObjectId('67d62e4ebbe7cba8f03e0851'), ObjectId('67d62e4ebbe7cba8f03e0852'), ObjectId('67d62e4ebbe7cba8f03e0853'), ObjectId('67d62e4ebbe7cba8f03e0854'), ObjectId('67d62e4ebbe7cba8f03e0855'), ObjectId('67d62e4ebbe7cba8f03e0856'), ObjectId('67d62e4ebbe7cba8f03e0857'), ObjectId('67d62e4ebbe7cba8f03e0858'), ObjectId('67d62e4ebbe7cba8f03e0859'), ObjectId('67d62e4ebbe7cba8f03e085a'), ObjectId('67d62e4ebbe7cba8f03e085b'), ObjectId('67d62e4ebbe7cba8f03e085c'), ObjectId('67d62e4ebbe7cba8f03e085d'), ObjectId('67d62e4ebbe7cba8f03e085e'), ObjectId('67d62e4ebbe7cba8f03e085f'), ObjectId('67d62e4ebbe7cba8f03e0860'), ObjectId('67d62e4ebbe7cba8f03e0861'), ObjectId('67d62e4ebbe7cba8f03e0862'), ObjectId('67d62e4ebbe7cba8f03e0863'), ObjectId('67d62e4ebbe7cba8f03e0864'), ObjectId('67d62e4ebbe7cba8f03e0865'), ObjectId('67d62e4ebbe7cba8f03e0866'), ObjectId('67d62e4ebbe7cba8f03e0867'), ObjectId('67d62e4ebbe7cba8f03e0868'), ObjectId('67d62e4ebbe7cba8f03e0869'), ObjectId('67d62e4ebbe7cba8f03e086a'), ObjectId('67d62e4ebbe7cba8f03e086b'), ObjectId('67d62e4ebbe7cba8f03e086c'), ObjectId('67d62e4ebbe7cba8f03e086d'), ObjectId('67d62e4ebbe7cba8f03e086e'), ObjectId('67d62e4ebbe7cba8f03e086f'), ObjectId('67d62e4ebbe7cba8f03e0870'), ObjectId('67d62e4ebbe7cba8f03e0871'), ObjectId('67d62e4ebbe7cba8f03e0872'), ObjectId('67d62e4ebbe7cba8f03e0873'), ObjectId('67d62e4ebbe7cba8f03e0874'), ObjectId('67d62e4ebbe7cba8f03e0875'), ObjectId('67d62e4ebbe7cba8f03e0876'), ObjectId('67d62e4ebbe7cba8f03e0877'), ObjectId('67d62e4ebbe7cba8f03e0878'), ObjectId('67d62e4ebbe7cba8f03e0879'), ObjectId('67d62e4ebbe7cba8f03e087a'), ObjectId('67d62e4ebbe7cba8f03e087b'), ObjectId('67d62e4ebbe7cba8f03e087c'), ObjectId('67d62e4ebbe7cba8f03e087d'), ObjectId('67d62e4ebbe7cba8f03e087e'), ObjectId('67d62e4ebbe7cba8f03e087f'), ObjectId('67d62e4ebbe7cba8f03e0880'), ObjectId('67d62e4ebbe7cba8f03e0881'), ObjectId('67d62e4ebbe7cba8f03e0882'), ObjectId('67d62e4ebbe7cba8f03e0883'), ObjectId('67d62e4ebbe7cba8f03e0884'), ObjectId('67d62e4ebbe7cba8f03e0885'), ObjectId('67d62e4ebbe7cba8f03e0886'), ObjectId('67d62e4ebbe7cba8f03e0887'), ObjectId('67d62e4ebbe7cba8f03e0888'), ObjectId('67d62e4ebbe7cba8f03e0889'), ObjectId('67d62e4ebbe7cba8f03e088a'), ObjectId('67d62e4ebbe7cba8f03e088b'), ObjectId('67d62e4ebbe7cba8f03e088c'), ObjectId('67d62e4ebbe7cba8f03e088d'), ObjectId('67d62e4ebbe7cba8f03e088e'), ObjectId('67d62e4ebbe7cba8f03e088f'), ObjectId('67d62e4ebbe7cba8f03e0890'), ObjectId('67d62e4ebbe7cba8f03e0891'), ObjectId('67d62e4ebbe7cba8f03e0892'), ObjectId('67d62e4ebbe7cba8f03e0893'), ObjectId('67d62e4ebbe7cba8f03e0894'), ObjectId('67d62e4ebbe7cba8f03e0895'), ObjectId('67d62e4ebbe7cba8f03e0896'), ObjectId('67d62e4ebbe7cba8f03e0897'), ObjectId('67d62e4ebbe7cba8f03e0898'), ObjectId('67d62e4ebbe7cba8f03e0899'), ObjectId('67d62e4ebbe7cba8f03e089a'), ObjectId('67d62e4ebbe7cba8f03e089b'), ObjectId('67d62e4ebbe7cba8f03e089c'), ObjectId('67d62e4ebbe7cba8f03e089d'), ObjectId('67d62e4ebbe7cba8f03e089e'), ObjectId('67d62e4ebbe7cba8f03e089f'), ObjectId('67d62e4ebbe7cba8f03e08a0'), ObjectId('67d62e4ebbe7cba8f03e08a1'), ObjectId('67d62e4ebbe7cba8f03e08a2'), ObjectId('67d62e4ebbe7cba8f03e08a3'), ObjectId('67d62e4ebbe7cba8f03e08a4'), ObjectId('67d62e4ebbe7cba8f03e08a5'), ObjectId('67d62e4ebbe7cba8f03e08a6'), ObjectId('67d62e4ebbe7cba8f03e08a7'), ObjectId('67d62e4ebbe7cba8f03e08a8'), ObjectId('67d62e4ebbe7cba8f03e08a9'), ObjectId('67d62e4ebbe7cba8f03e08aa'), ObjectId('67d62e4ebbe7cba8f03e08ab'), ObjectId('67d62e4ebbe7cba8f03e08ac'), ObjectId('67d62e4ebbe7cba8f03e08ad'), ObjectId('67d62e4ebbe7cba8f03e08ae'), ObjectId('67d62e4ebbe7cba8f03e08af'), ObjectId('67d62e4ebbe7cba8f03e08b0'), ObjectId('67d62e4ebbe7cba8f03e08b1'), ObjectId('67d62e4ebbe7cba8f03e08b2'), ObjectId('67d62e4ebbe7cba8f03e08b3'), ObjectId('67d62e4ebbe7cba8f03e08b4'), ObjectId('67d62e4ebbe7cba8f03e08b5'), ObjectId('67d62e4ebbe7cba8f03e08b6'), ObjectId('67d62e4ebbe7cba8f03e08b7'), ObjectId('67d62e4ebbe7cba8f03e08b8'), ObjectId('67d62e4ebbe7cba8f03e08b9'), ObjectId('67d62e4ebbe7cba8f03e08ba'), ObjectId('67d62e4ebbe7cba8f03e08bb'), ObjectId('67d62e4ebbe7cba8f03e08bc'), ObjectId('67d62e4ebbe7cba8f03e08bd'), ObjectId('67d62e4ebbe7cba8f03e08be'), ObjectId('67d62e4ebbe7cba8f03e08bf'), ObjectId('67d62e4ebbe7cba8f03e08c0'), ObjectId('67d62e4ebbe7cba8f03e08c1'), ObjectId('67d62e4ebbe7cba8f03e08c2'), ObjectId('67d62e4ebbe7cba8f03e08c3'), ObjectId('67d62e4ebbe7cba8f03e08c4'), ObjectId('67d62e4ebbe7cba8f03e08c5'), ObjectId('67d62e4ebbe7cba8f03e08c6'), ObjectId('67d62e4ebbe7cba8f03e08c7'), ObjectId('67d62e4ebbe7cba8f03e08c8'), ObjectId('67d62e4ebbe7cba8f03e08c9'), ObjectId('67d62e4ebbe7cba8f03e08ca'), ObjectId('67d62e4ebbe7cba8f03e08cb'), ObjectId('67d62e4ebbe7cba8f03e08cc'), ObjectId('67d62e4ebbe7cba8f03e08cd'), ObjectId('67d62e4ebbe7cba8f03e08ce'), ObjectId('67d62e4ebbe7cba8f03e08cf'), ObjectId('67d62e4ebbe7cba8f03e08d0'), ObjectId('67d62e4ebbe7cba8f03e08d1'), ObjectId('67d62e4ebbe7cba8f03e08d2'), ObjectId('67d62e4ebbe7cba8f03e08d3'), ObjectId('67d62e4ebbe7cba8f03e08d4'), ObjectId('67d62e4ebbe7cba8f03e08d5'), ObjectId('67d62e4ebbe7cba8f03e08d6'), ObjectId('67d62e4ebbe7cba8f03e08d7'), ObjectId('67d62e4ebbe7cba8f03e08d8'), ObjectId('67d62e4ebbe7cba8f03e08d9'), ObjectId('67d62e4ebbe7cba8f03e08da'), ObjectId('67d62e4ebbe7cba8f03e08db'), ObjectId('67d62e4ebbe7cba8f03e08dc'), ObjectId('67d62e4ebbe7cba8f03e08dd'), ObjectId('67d62e4ebbe7cba8f03e08de'), ObjectId('67d62e4ebbe7cba8f03e08df'), ObjectId('67d62e4ebbe7cba8f03e08e0'), ObjectId('67d62e4ebbe7cba8f03e08e1'), ObjectId('67d62e4ebbe7cba8f03e08e2'), ObjectId('67d62e4ebbe7cba8f03e08e3'), ObjectId('67d62e4ebbe7cba8f03e08e4'), ObjectId('67d62e4ebbe7cba8f03e08e5'), ObjectId('67d62e4ebbe7cba8f03e08e6'), ObjectId('67d62e4ebbe7cba8f03e08e7'), ObjectId('67d62e4ebbe7cba8f03e08e8'), ObjectId('67d62e4ebbe7cba8f03e08e9'), ObjectId('67d62e4ebbe7cba8f03e08ea'), ObjectId('67d62e4ebbe7cba8f03e08eb'), ObjectId('67d62e4ebbe7cba8f03e08ec'), ObjectId('67d62e4ebbe7cba8f03e08ed'), ObjectId('67d62e4ebbe7cba8f03e08ee'), ObjectId('67d62e4ebbe7cba8f03e08ef'), ObjectId('67d62e4ebbe7cba8f03e08f0'), ObjectId('67d62e4ebbe7cba8f03e08f1'), ObjectId('67d62e4ebbe7cba8f03e08f2'), ObjectId('67d62e4ebbe7cba8f03e08f3'), ObjectId('67d62e4ebbe7cba8f03e08f4'), ObjectId('67d62e4ebbe7cba8f03e08f5'), ObjectId('67d62e4ebbe7cba8f03e08f6'), ObjectId('67d62e4ebbe7cba8f03e08f7'), ObjectId('67d62e4ebbe7cba8f03e08f8'), ObjectId('67d62e4ebbe7cba8f03e08f9'), ObjectId('67d62e4ebbe7cba8f03e08fa'), ObjectId('67d62e4ebbe7cba8f03e08fb'), ObjectId('67d62e4ebbe7cba8f03e08fc'), ObjectId('67d62e4ebbe7cba8f03e08fd'), ObjectId('67d62e4ebbe7cba8f03e08fe'), ObjectId('67d62e4ebbe7cba8f03e08ff'), ObjectId('67d62e4ebbe7cba8f03e0900'), ObjectId('67d62e4ebbe7cba8f03e0901'), ObjectId('67d62e4ebbe7cba8f03e0902'), ObjectId('67d62e4ebbe7cba8f03e0903'), ObjectId('67d62e4ebbe7cba8f03e0904'), ObjectId('67d62e4ebbe7cba8f03e0905'), ObjectId('67d62e4ebbe7cba8f03e0906'), ObjectId('67d62e4ebbe7cba8f03e0907'), ObjectId('67d62e4ebbe7cba8f03e0908'), ObjectId('67d62e4ebbe7cba8f03e0909'), ObjectId('67d62e4ebbe7cba8f03e090a'), ObjectId('67d62e4ebbe7cba8f03e090b'), ObjectId('67d62e4ebbe7cba8f03e090c'), ObjectId('67d62e4ebbe7cba8f03e090d'), ObjectId('67d62e4ebbe7cba8f03e090e'), ObjectId('67d62e4ebbe7cba8f03e090f'), ObjectId('67d62e4ebbe7cba8f03e0910'), ObjectId('67d62e4ebbe7cba8f03e0911'), ObjectId('67d62e4ebbe7cba8f03e0912'), ObjectId('67d62e4ebbe7cba8f03e0913'), ObjectId('67d62e4ebbe7cba8f03e0914'), ObjectId('67d62e4ebbe7cba8f03e0915'), ObjectId('67d62e4ebbe7cba8f03e0916'), ObjectId('67d62e4ebbe7cba8f03e0917'), ObjectId('67d62e4ebbe7cba8f03e0918'), ObjectId('67d62e4ebbe7cba8f03e0919'), ObjectId('67d62e4ebbe7cba8f03e091a'), ObjectId('67d62e4ebbe7cba8f03e091b'), ObjectId('67d62e4ebbe7cba8f03e091c'), ObjectId('67d62e4ebbe7cba8f03e091d'), ObjectId('67d62e4ebbe7cba8f03e091e'), ObjectId('67d62e4ebbe7cba8f03e091f'), ObjectId('67d62e4ebbe7cba8f03e0920'), ObjectId('67d62e4ebbe7cba8f03e0921'), ObjectId('67d62e4ebbe7cba8f03e0922'), ObjectId('67d62e4ebbe7cba8f03e0923'), ObjectId('67d62e4ebbe7cba8f03e0924'), ObjectId('67d62e4ebbe7cba8f03e0925'), ObjectId('67d62e4ebbe7cba8f03e0926'), ObjectId('67d62e4ebbe7cba8f03e0927'), ObjectId('67d62e4ebbe7cba8f03e0928'), ObjectId('67d62e4ebbe7cba8f03e0929'), ObjectId('67d62e4ebbe7cba8f03e092a'), ObjectId('67d62e4ebbe7cba8f03e092b'), ObjectId('67d62e4ebbe7cba8f03e092c'), ObjectId('67d62e4ebbe7cba8f03e092d'), ObjectId('67d62e4ebbe7cba8f03e092e'), ObjectId('67d62e4ebbe7cba8f03e092f'), ObjectId('67d62e4ebbe7cba8f03e0930'), ObjectId('67d62e4ebbe7cba8f03e0931'), ObjectId('67d62e4ebbe7cba8f03e0932'), ObjectId('67d62e4ebbe7cba8f03e0933'), ObjectId('67d62e4ebbe7cba8f03e0934'), ObjectId('67d62e4ebbe7cba8f03e0935'), ObjectId('67d62e4ebbe7cba8f03e0936'), ObjectId('67d62e4ebbe7cba8f03e0937'), ObjectId('67d62e4ebbe7cba8f03e0938'), ObjectId('67d62e4ebbe7cba8f03e0939'), ObjectId('67d62e4ebbe7cba8f03e093a'), ObjectId('67d62e4ebbe7cba8f03e093b'), ObjectId('67d62e4ebbe7cba8f03e093c'), ObjectId('67d62e4ebbe7cba8f03e093d'), ObjectId('67d62e4ebbe7cba8f03e093e'), ObjectId('67d62e4ebbe7cba8f03e093f'), ObjectId('67d62e4ebbe7cba8f03e0940'), ObjectId('67d62e4ebbe7cba8f03e0941'), ObjectId('67d62e4ebbe7cba8f03e0942'), ObjectId('67d62e4ebbe7cba8f03e0943'), ObjectId('67d62e4ebbe7cba8f03e0944'), ObjectId('67d62e4ebbe7cba8f03e0945'), ObjectId('67d62e4ebbe7cba8f03e0946'), ObjectId('67d62e4ebbe7cba8f03e0947'), ObjectId('67d62e4ebbe7cba8f03e0948'), ObjectId('67d62e4ebbe7cba8f03e0949'), ObjectId('67d62e4ebbe7cba8f03e094a'), ObjectId('67d62e4ebbe7cba8f03e094b'), ObjectId('67d62e4ebbe7cba8f03e094c'), ObjectId('67d62e4ebbe7cba8f03e094d'), ObjectId('67d62e4ebbe7cba8f03e094e'), ObjectId('67d62e4ebbe7cba8f03e094f'), ObjectId('67d62e4ebbe7cba8f03e0950'), ObjectId('67d62e4ebbe7cba8f03e0951'), ObjectId('67d62e4ebbe7cba8f03e0952'), ObjectId('67d62e4ebbe7cba8f03e0953'), ObjectId('67d62e4ebbe7cba8f03e0954'), ObjectId('67d62e4ebbe7cba8f03e0955'), ObjectId('67d62e4ebbe7cba8f03e0956'), ObjectId('67d62e4ebbe7cba8f03e0957'), ObjectId('67d62e4ebbe7cba8f03e0958'), ObjectId('67d62e4ebbe7cba8f03e0959'), ObjectId('67d62e4ebbe7cba8f03e095a'), ObjectId('67d62e4ebbe7cba8f03e095b'), ObjectId('67d62e4ebbe7cba8f03e095c'), ObjectId('67d62e4ebbe7cba8f03e095d'), ObjectId('67d62e4ebbe7cba8f03e095e'), ObjectId('67d62e4ebbe7cba8f03e095f'), ObjectId('67d62e4ebbe7cba8f03e0960'), ObjectId('67d62e4ebbe7cba8f03e0961'), ObjectId('67d62e4ebbe7cba8f03e0962'), ObjectId('67d62e4ebbe7cba8f03e0963'), ObjectId('67d62e4ebbe7cba8f03e0964'), ObjectId('67d62e4ebbe7cba8f03e0965'), ObjectId('67d62e4ebbe7cba8f03e0966'), ObjectId('67d62e4ebbe7cba8f03e0967'), ObjectId('67d62e4ebbe7cba8f03e0968'), ObjectId('67d62e4ebbe7cba8f03e0969'), ObjectId('67d62e4ebbe7cba8f03e096a'), ObjectId('67d62e4ebbe7cba8f03e096b'), ObjectId('67d62e4ebbe7cba8f03e096c'), ObjectId('67d62e4ebbe7cba8f03e096d'), ObjectId('67d62e4ebbe7cba8f03e096e'), ObjectId('67d62e4ebbe7cba8f03e096f'), ObjectId('67d62e4ebbe7cba8f03e0970'), ObjectId('67d62e4ebbe7cba8f03e0971'), ObjectId('67d62e4ebbe7cba8f03e0972'), ObjectId('67d62e4ebbe7cba8f03e0973'), ObjectId('67d62e4ebbe7cba8f03e0974'), ObjectId('67d62e4ebbe7cba8f03e0975'), ObjectId('67d62e4ebbe7cba8f03e0976'), ObjectId('67d62e4ebbe7cba8f03e0977'), ObjectId('67d62e4ebbe7cba8f03e0978'), ObjectId('67d62e4ebbe7cba8f03e0979'), ObjectId('67d62e4ebbe7cba8f03e097a'), ObjectId('67d62e4ebbe7cba8f03e097b'), ObjectId('67d62e4ebbe7cba8f03e097c'), ObjectId('67d62e4ebbe7cba8f03e097d'), ObjectId('67d62e4ebbe7cba8f03e097e'), ObjectId('67d62e4ebbe7cba8f03e097f'), ObjectId('67d62e4ebbe7cba8f03e0980'), ObjectId('67d62e4ebbe7cba8f03e0981'), ObjectId('67d62e4ebbe7cba8f03e0982'), ObjectId('67d62e4ebbe7cba8f03e0983'), ObjectId('67d62e4ebbe7cba8f03e0984'), ObjectId('67d62e4ebbe7cba8f03e0985'), ObjectId('67d62e4ebbe7cba8f03e0986'), ObjectId('67d62e4ebbe7cba8f03e0987'), ObjectId('67d62e4ebbe7cba8f03e0988'), ObjectId('67d62e4ebbe7cba8f03e0989'), ObjectId('67d62e4ebbe7cba8f03e098a'), ObjectId('67d62e4ebbe7cba8f03e098b'), ObjectId('67d62e4ebbe7cba8f03e098c'), ObjectId('67d62e4ebbe7cba8f03e098d'), ObjectId('67d62e4ebbe7cba8f03e098e'), ObjectId('67d62e4ebbe7cba8f03e098f'), ObjectId('67d62e4ebbe7cba8f03e0990'), ObjectId('67d62e4ebbe7cba8f03e0991'), ObjectId('67d62e4ebbe7cba8f03e0992'), ObjectId('67d62e4ebbe7cba8f03e0993'), ObjectId('67d62e4ebbe7cba8f03e0994'), ObjectId('67d62e4ebbe7cba8f03e0995'), ObjectId('67d62e4ebbe7cba8f03e0996'), ObjectId('67d62e4ebbe7cba8f03e0997'), ObjectId('67d62e4ebbe7cba8f03e0998'), ObjectId('67d62e4ebbe7cba8f03e0999'), ObjectId('67d62e4ebbe7cba8f03e099a'), ObjectId('67d62e4ebbe7cba8f03e099b'), ObjectId('67d62e4ebbe7cba8f03e099c'), ObjectId('67d62e4ebbe7cba8f03e099d'), ObjectId('67d62e4ebbe7cba8f03e099e'), ObjectId('67d62e4ebbe7cba8f03e099f'), ObjectId('67d62e4ebbe7cba8f03e09a0'), ObjectId('67d62e4ebbe7cba8f03e09a1'), ObjectId('67d62e4ebbe7cba8f03e09a2'), ObjectId('67d62e4ebbe7cba8f03e09a3'), ObjectId('67d62e4ebbe7cba8f03e09a4'), ObjectId('67d62e4ebbe7cba8f03e09a5'), ObjectId('67d62e4ebbe7cba8f03e09a6'), ObjectId('67d62e4ebbe7cba8f03e09a7'), ObjectId('67d62e4ebbe7cba8f03e09a8'), ObjectId('67d62e4ebbe7cba8f03e09a9'), ObjectId('67d62e4ebbe7cba8f03e09aa'), ObjectId('67d62e4ebbe7cba8f03e09ab'), ObjectId('67d62e4ebbe7cba8f03e09ac'), ObjectId('67d62e4ebbe7cba8f03e09ad'), ObjectId('67d62e4ebbe7cba8f03e09ae'), ObjectId('67d62e4ebbe7cba8f03e09af'), ObjectId('67d62e4ebbe7cba8f03e09b0'), ObjectId('67d62e4ebbe7cba8f03e09b1'), ObjectId('67d62e4ebbe7cba8f03e09b2'), ObjectId('67d62e4ebbe7cba8f03e09b3'), ObjectId('67d62e4ebbe7cba8f03e09b4'), ObjectId('67d62e4ebbe7cba8f03e09b5'), ObjectId('67d62e4ebbe7cba8f03e09b6'), ObjectId('67d62e4ebbe7cba8f03e09b7'), ObjectId('67d62e4ebbe7cba8f03e09b8'), ObjectId('67d62e4ebbe7cba8f03e09b9'), ObjectId('67d62e4ebbe7cba8f03e09ba'), ObjectId('67d62e4ebbe7cba8f03e09bb'), ObjectId('67d62e4ebbe7cba8f03e09bc'), ObjectId('67d62e4ebbe7cba8f03e09bd'), ObjectId('67d62e4ebbe7cba8f03e09be'), ObjectId('67d62e4ebbe7cba8f03e09bf'), ObjectId('67d62e4ebbe7cba8f03e09c0'), ObjectId('67d62e4ebbe7cba8f03e09c1'), ObjectId('67d62e4ebbe7cba8f03e09c2'), ObjectId('67d62e4ebbe7cba8f03e09c3'), ObjectId('67d62e4ebbe7cba8f03e09c4'), ObjectId('67d62e4ebbe7cba8f03e09c5'), ObjectId('67d62e4ebbe7cba8f03e09c6'), ObjectId('67d62e4ebbe7cba8f03e09c7'), ObjectId('67d62e4ebbe7cba8f03e09c8'), ObjectId('67d62e4ebbe7cba8f03e09c9'), ObjectId('67d62e4ebbe7cba8f03e09ca'), ObjectId('67d62e4ebbe7cba8f03e09cb'), ObjectId('67d62e4ebbe7cba8f03e09cc'), ObjectId('67d62e4ebbe7cba8f03e09cd'), ObjectId('67d62e4ebbe7cba8f03e09ce'), ObjectId('67d62e4ebbe7cba8f03e09cf'), ObjectId('67d62e4ebbe7cba8f03e09d0'), ObjectId('67d62e4ebbe7cba8f03e09d1'), ObjectId('67d62e4ebbe7cba8f03e09d2'), ObjectId('67d62e4ebbe7cba8f03e09d3'), ObjectId('67d62e4ebbe7cba8f03e09d4'), ObjectId('67d62e4ebbe7cba8f03e09d5'), ObjectId('67d62e4ebbe7cba8f03e09d6'), ObjectId('67d62e4ebbe7cba8f03e09d7'), ObjectId('67d62e4ebbe7cba8f03e09d8'), ObjectId('67d62e4ebbe7cba8f03e09d9'), ObjectId('67d62e4ebbe7cba8f03e09da'), ObjectId('67d62e4ebbe7cba8f03e09db'), ObjectId('67d62e4ebbe7cba8f03e09dc'), ObjectId('67d62e4ebbe7cba8f03e09dd'), ObjectId('67d62e4ebbe7cba8f03e09de'), ObjectId('67d62e4ebbe7cba8f03e09df'), ObjectId('67d62e4ebbe7cba8f03e09e0'), ObjectId('67d62e4ebbe7cba8f03e09e1'), ObjectId('67d62e4ebbe7cba8f03e09e2'), ObjectId('67d62e4ebbe7cba8f03e09e3'), ObjectId('67d62e4ebbe7cba8f03e09e4'), ObjectId('67d62e4ebbe7cba8f03e09e5'), ObjectId('67d62e4ebbe7cba8f03e09e6'), ObjectId('67d62e4ebbe7cba8f03e09e7'), ObjectId('67d62e4ebbe7cba8f03e09e8'), ObjectId('67d62e4ebbe7cba8f03e09e9'), ObjectId('67d62e4ebbe7cba8f03e09ea'), ObjectId('67d62e4ebbe7cba8f03e09eb'), ObjectId('67d62e4ebbe7cba8f03e09ec'), ObjectId('67d62e4ebbe7cba8f03e09ed'), ObjectId('67d62e4ebbe7cba8f03e09ee'), ObjectId('67d62e4ebbe7cba8f03e09ef'), ObjectId('67d62e4ebbe7cba8f03e09f0'), ObjectId('67d62e4ebbe7cba8f03e09f1'), ObjectId('67d62e4ebbe7cba8f03e09f2'), ObjectId('67d62e4ebbe7cba8f03e09f3'), ObjectId('67d62e4ebbe7cba8f03e09f4'), ObjectId('67d62e4ebbe7cba8f03e09f5'), ObjectId('67d62e4ebbe7cba8f03e09f6'), ObjectId('67d62e4ebbe7cba8f03e09f7'), ObjectId('67d62e4ebbe7cba8f03e09f8'), ObjectId('67d62e4ebbe7cba8f03e09f9'), ObjectId('67d62e4ebbe7cba8f03e09fa'), ObjectId('67d62e4ebbe7cba8f03e09fb'), ObjectId('67d62e4ebbe7cba8f03e09fc'), ObjectId('67d62e4ebbe7cba8f03e09fd'), ObjectId('67d62e4ebbe7cba8f03e09fe'), ObjectId('67d62e4ebbe7cba8f03e09ff'), ObjectId('67d62e4ebbe7cba8f03e0a00'), ObjectId('67d62e4ebbe7cba8f03e0a01'), ObjectId('67d62e4ebbe7cba8f03e0a02'), ObjectId('67d62e4ebbe7cba8f03e0a03'), ObjectId('67d62e4ebbe7cba8f03e0a04'), ObjectId('67d62e4ebbe7cba8f03e0a05'), ObjectId('67d62e4ebbe7cba8f03e0a06'), ObjectId('67d62e4ebbe7cba8f03e0a07'), ObjectId('67d62e4ebbe7cba8f03e0a08'), ObjectId('67d62e4ebbe7cba8f03e0a09'), ObjectId('67d62e4ebbe7cba8f03e0a0a'), ObjectId('67d62e4ebbe7cba8f03e0a0b'), ObjectId('67d62e4ebbe7cba8f03e0a0c'), ObjectId('67d62e4ebbe7cba8f03e0a0d'), ObjectId('67d62e4ebbe7cba8f03e0a0e'), ObjectId('67d62e4ebbe7cba8f03e0a0f'), ObjectId('67d62e4ebbe7cba8f03e0a10'), ObjectId('67d62e4ebbe7cba8f03e0a11'), ObjectId('67d62e4ebbe7cba8f03e0a12'), ObjectId('67d62e4ebbe7cba8f03e0a13'), ObjectId('67d62e4ebbe7cba8f03e0a14'), ObjectId('67d62e4ebbe7cba8f03e0a15'), ObjectId('67d62e4ebbe7cba8f03e0a16'), ObjectId('67d62e4ebbe7cba8f03e0a17'), ObjectId('67d62e4ebbe7cba8f03e0a18'), ObjectId('67d62e4ebbe7cba8f03e0a19'), ObjectId('67d62e4ebbe7cba8f03e0a1a'), ObjectId('67d62e4ebbe7cba8f03e0a1b'), ObjectId('67d62e4ebbe7cba8f03e0a1c'), ObjectId('67d62e4ebbe7cba8f03e0a1d'), ObjectId('67d62e4ebbe7cba8f03e0a1e'), ObjectId('67d62e4ebbe7cba8f03e0a1f'), ObjectId('67d62e4ebbe7cba8f03e0a20'), ObjectId('67d62e4ebbe7cba8f03e0a21'), ObjectId('67d62e4ebbe7cba8f03e0a22'), ObjectId('67d62e4ebbe7cba8f03e0a23'), ObjectId('67d62e4ebbe7cba8f03e0a24'), ObjectId('67d62e4ebbe7cba8f03e0a25'), ObjectId('67d62e4ebbe7cba8f03e0a26'), ObjectId('67d62e4ebbe7cba8f03e0a27'), ObjectId('67d62e4ebbe7cba8f03e0a28'), ObjectId('67d62e4ebbe7cba8f03e0a29'), ObjectId('67d62e4ebbe7cba8f03e0a2a'), ObjectId('67d62e4ebbe7cba8f03e0a2b'), ObjectId('67d62e4ebbe7cba8f03e0a2c'), ObjectId('67d62e4ebbe7cba8f03e0a2d'), ObjectId('67d62e4ebbe7cba8f03e0a2e'), ObjectId('67d62e4ebbe7cba8f03e0a2f'), ObjectId('67d62e4ebbe7cba8f03e0a30'), ObjectId('67d62e4ebbe7cba8f03e0a31'), ObjectId('67d62e4ebbe7cba8f03e0a32'), ObjectId('67d62e4ebbe7cba8f03e0a33'), ObjectId('67d62e4ebbe7cba8f03e0a34'), ObjectId('67d62e4ebbe7cba8f03e0a35'), ObjectId('67d62e4ebbe7cba8f03e0a36'), ObjectId('67d62e4ebbe7cba8f03e0a37'), ObjectId('67d62e4ebbe7cba8f03e0a38'), ObjectId('67d62e4ebbe7cba8f03e0a39'), ObjectId('67d62e4ebbe7cba8f03e0a3a'), ObjectId('67d62e4ebbe7cba8f03e0a3b'), ObjectId('67d62e4ebbe7cba8f03e0a3c'), ObjectId('67d62e4ebbe7cba8f03e0a3d'), ObjectId('67d62e4ebbe7cba8f03e0a3e'), ObjectId('67d62e4ebbe7cba8f03e0a3f'), ObjectId('67d62e4ebbe7cba8f03e0a40'), ObjectId('67d62e4ebbe7cba8f03e0a41'), ObjectId('67d62e4ebbe7cba8f03e0a42'), ObjectId('67d62e4ebbe7cba8f03e0a43'), ObjectId('67d62e4ebbe7cba8f03e0a44'), ObjectId('67d62e4ebbe7cba8f03e0a45'), ObjectId('67d62e4ebbe7cba8f03e0a46'), ObjectId('67d62e4ebbe7cba8f03e0a47'), ObjectId('67d62e4ebbe7cba8f03e0a48'), ObjectId('67d62e4ebbe7cba8f03e0a49'), ObjectId('67d62e4ebbe7cba8f03e0a4a'), ObjectId('67d62e4ebbe7cba8f03e0a4b'), ObjectId('67d62e4ebbe7cba8f03e0a4c'), ObjectId('67d62e4ebbe7cba8f03e0a4d'), ObjectId('67d62e4ebbe7cba8f03e0a4e'), ObjectId('67d62e4ebbe7cba8f03e0a4f'), ObjectId('67d62e4ebbe7cba8f03e0a50'), ObjectId('67d62e4ebbe7cba8f03e0a51'), ObjectId('67d62e4ebbe7cba8f03e0a52'), ObjectId('67d62e4ebbe7cba8f03e0a53'), ObjectId('67d62e4ebbe7cba8f03e0a54'), ObjectId('67d62e4ebbe7cba8f03e0a55'), ObjectId('67d62e4ebbe7cba8f03e0a56'), ObjectId('67d62e4ebbe7cba8f03e0a57'), ObjectId('67d62e4ebbe7cba8f03e0a58'), ObjectId('67d62e4ebbe7cba8f03e0a59'), ObjectId('67d62e4ebbe7cba8f03e0a5a'), ObjectId('67d62e4ebbe7cba8f03e0a5b'), ObjectId('67d62e4ebbe7cba8f03e0a5c'), ObjectId('67d62e4ebbe7cba8f03e0a5d'), ObjectId('67d62e4ebbe7cba8f03e0a5e'), ObjectId('67d62e4ebbe7cba8f03e0a5f'), ObjectId('67d62e4ebbe7cba8f03e0a60'), ObjectId('67d62e4ebbe7cba8f03e0a61'), ObjectId('67d62e4ebbe7cba8f03e0a62'), ObjectId('67d62e4ebbe7cba8f03e0a63'), ObjectId('67d62e4ebbe7cba8f03e0a64'), ObjectId('67d62e4ebbe7cba8f03e0a65'), ObjectId('67d62e4ebbe7cba8f03e0a66'), ObjectId('67d62e4ebbe7cba8f03e0a67'), ObjectId('67d62e4ebbe7cba8f03e0a68'), ObjectId('67d62e4ebbe7cba8f03e0a69'), ObjectId('67d62e4ebbe7cba8f03e0a6a'), ObjectId('67d62e4ebbe7cba8f03e0a6b'), ObjectId('67d62e4ebbe7cba8f03e0a6c'), ObjectId('67d62e4ebbe7cba8f03e0a6d'), ObjectId('67d62e4ebbe7cba8f03e0a6e'), ObjectId('67d62e4ebbe7cba8f03e0a6f'), ObjectId('67d62e4ebbe7cba8f03e0a70'), ObjectId('67d62e4ebbe7cba8f03e0a71'), ObjectId('67d62e4ebbe7cba8f03e0a72'), ObjectId('67d62e4ebbe7cba8f03e0a73'), ObjectId('67d62e4ebbe7cba8f03e0a74'), ObjectId('67d62e4ebbe7cba8f03e0a75'), ObjectId('67d62e4ebbe7cba8f03e0a76'), ObjectId('67d62e4ebbe7cba8f03e0a77'), ObjectId('67d62e4ebbe7cba8f03e0a78'), ObjectId('67d62e4ebbe7cba8f03e0a79'), ObjectId('67d62e4ebbe7cba8f03e0a7a'), ObjectId('67d62e4ebbe7cba8f03e0a7b'), ObjectId('67d62e4ebbe7cba8f03e0a7c'), ObjectId('67d62e4ebbe7cba8f03e0a7d'), ObjectId('67d62e4ebbe7cba8f03e0a7e'), ObjectId('67d62e4ebbe7cba8f03e0a7f'), ObjectId('67d62e4ebbe7cba8f03e0a80'), ObjectId('67d62e4ebbe7cba8f03e0a81'), ObjectId('67d62e4ebbe7cba8f03e0a82'), ObjectId('67d62e4ebbe7cba8f03e0a83'), ObjectId('67d62e4ebbe7cba8f03e0a84'), ObjectId('67d62e4ebbe7cba8f03e0a85'), ObjectId('67d62e4ebbe7cba8f03e0a86'), ObjectId('67d62e4ebbe7cba8f03e0a87'), ObjectId('67d62e4ebbe7cba8f03e0a88'), ObjectId('67d62e4ebbe7cba8f03e0a89'), ObjectId('67d62e4ebbe7cba8f03e0a8a'), ObjectId('67d62e4ebbe7cba8f03e0a8b'), ObjectId('67d62e4ebbe7cba8f03e0a8c'), ObjectId('67d62e4ebbe7cba8f03e0a8d'), ObjectId('67d62e4ebbe7cba8f03e0a8e'), ObjectId('67d62e4ebbe7cba8f03e0a8f'), ObjectId('67d62e4ebbe7cba8f03e0a90'), ObjectId('67d62e4ebbe7cba8f03e0a91'), ObjectId('67d62e4ebbe7cba8f03e0a92'), ObjectId('67d62e4ebbe7cba8f03e0a93'), ObjectId('67d62e4ebbe7cba8f03e0a94'), ObjectId('67d62e4ebbe7cba8f03e0a95'), ObjectId('67d62e4ebbe7cba8f03e0a96'), ObjectId('67d62e4ebbe7cba8f03e0a97'), ObjectId('67d62e4ebbe7cba8f03e0a98'), ObjectId('67d62e4ebbe7cba8f03e0a99'), ObjectId('67d62e4ebbe7cba8f03e0a9a'), ObjectId('67d62e4ebbe7cba8f03e0a9b'), ObjectId('67d62e4ebbe7cba8f03e0a9c'), ObjectId('67d62e4ebbe7cba8f03e0a9d'), ObjectId('67d62e4ebbe7cba8f03e0a9e'), ObjectId('67d62e4ebbe7cba8f03e0a9f'), ObjectId('67d62e4ebbe7cba8f03e0aa0'), ObjectId('67d62e4ebbe7cba8f03e0aa1'), ObjectId('67d62e4ebbe7cba8f03e0aa2'), ObjectId('67d62e4ebbe7cba8f03e0aa3'), ObjectId('67d62e4ebbe7cba8f03e0aa4'), ObjectId('67d62e4ebbe7cba8f03e0aa5'), ObjectId('67d62e4ebbe7cba8f03e0aa6'), ObjectId('67d62e4ebbe7cba8f03e0aa7'), ObjectId('67d62e4ebbe7cba8f03e0aa8'), ObjectId('67d62e4ebbe7cba8f03e0aa9'), ObjectId('67d62e4ebbe7cba8f03e0aaa'), ObjectId('67d62e4ebbe7cba8f03e0aab'), ObjectId('67d62e4ebbe7cba8f03e0aac'), ObjectId('67d62e4ebbe7cba8f03e0aad'), ObjectId('67d62e4ebbe7cba8f03e0aae'), ObjectId('67d62e4ebbe7cba8f03e0aaf'), ObjectId('67d62e4ebbe7cba8f03e0ab0'), ObjectId('67d62e4ebbe7cba8f03e0ab1'), ObjectId('67d62e4ebbe7cba8f03e0ab2'), ObjectId('67d62e4ebbe7cba8f03e0ab3'), ObjectId('67d62e4ebbe7cba8f03e0ab4'), ObjectId('67d62e4ebbe7cba8f03e0ab5'), ObjectId('67d62e4ebbe7cba8f03e0ab6'), ObjectId('67d62e4ebbe7cba8f03e0ab7'), ObjectId('67d62e4ebbe7cba8f03e0ab8'), ObjectId('67d62e4ebbe7cba8f03e0ab9'), ObjectId('67d62e4ebbe7cba8f03e0aba'), ObjectId('67d62e4ebbe7cba8f03e0abb'), ObjectId('67d62e4ebbe7cba8f03e0abc'), ObjectId('67d62e4ebbe7cba8f03e0abd'), ObjectId('67d62e4ebbe7cba8f03e0abe'), ObjectId('67d62e4ebbe7cba8f03e0abf'), ObjectId('67d62e4ebbe7cba8f03e0ac0'), ObjectId('67d62e4ebbe7cba8f03e0ac1'), ObjectId('67d62e4ebbe7cba8f03e0ac2'), ObjectId('67d62e4ebbe7cba8f03e0ac3'), ObjectId('67d62e4ebbe7cba8f03e0ac4'), ObjectId('67d62e4ebbe7cba8f03e0ac5'), ObjectId('67d62e4ebbe7cba8f03e0ac6'), ObjectId('67d62e4ebbe7cba8f03e0ac7'), ObjectId('67d62e4ebbe7cba8f03e0ac8'), ObjectId('67d62e4ebbe7cba8f03e0ac9'), ObjectId('67d62e4ebbe7cba8f03e0aca'), ObjectId('67d62e4ebbe7cba8f03e0acb'), ObjectId('67d62e4ebbe7cba8f03e0acc'), ObjectId('67d62e4ebbe7cba8f03e0acd'), ObjectId('67d62e4ebbe7cba8f03e0ace'), ObjectId('67d62e4ebbe7cba8f03e0acf'), ObjectId('67d62e4ebbe7cba8f03e0ad0'), ObjectId('67d62e4ebbe7cba8f03e0ad1'), ObjectId('67d62e4ebbe7cba8f03e0ad2'), ObjectId('67d62e4ebbe7cba8f03e0ad3'), ObjectId('67d62e4ebbe7cba8f03e0ad4'), ObjectId('67d62e4ebbe7cba8f03e0ad5'), ObjectId('67d62e4ebbe7cba8f03e0ad6'), ObjectId('67d62e4ebbe7cba8f03e0ad7'), ObjectId('67d62e4ebbe7cba8f03e0ad8'), ObjectId('67d62e4ebbe7cba8f03e0ad9'), ObjectId('67d62e4ebbe7cba8f03e0ada'), ObjectId('67d62e4ebbe7cba8f03e0adb'), ObjectId('67d62e4ebbe7cba8f03e0adc'), ObjectId('67d62e4ebbe7cba8f03e0add'), ObjectId('67d62e4ebbe7cba8f03e0ade'), ObjectId('67d62e4ebbe7cba8f03e0adf'), ObjectId('67d62e4ebbe7cba8f03e0ae0'), ObjectId('67d62e4ebbe7cba8f03e0ae1'), ObjectId('67d62e4ebbe7cba8f03e0ae2'), ObjectId('67d62e4ebbe7cba8f03e0ae3'), ObjectId('67d62e4ebbe7cba8f03e0ae4'), ObjectId('67d62e4ebbe7cba8f03e0ae5'), ObjectId('67d62e4ebbe7cba8f03e0ae6'), ObjectId('67d62e4ebbe7cba8f03e0ae7'), ObjectId('67d62e4ebbe7cba8f03e0ae8'), ObjectId('67d62e4ebbe7cba8f03e0ae9'), ObjectId('67d62e4ebbe7cba8f03e0aea'), ObjectId('67d62e4ebbe7cba8f03e0aeb'), ObjectId('67d62e4ebbe7cba8f03e0aec'), ObjectId('67d62e4ebbe7cba8f03e0aed'), ObjectId('67d62e4ebbe7cba8f03e0aee'), ObjectId('67d62e4ebbe7cba8f03e0aef'), ObjectId('67d62e4ebbe7cba8f03e0af0'), ObjectId('67d62e4ebbe7cba8f03e0af1'), ObjectId('67d62e4ebbe7cba8f03e0af2'), ObjectId('67d62e4ebbe7cba8f03e0af3'), ObjectId('67d62e4ebbe7cba8f03e0af4'), ObjectId('67d62e4ebbe7cba8f03e0af5'), ObjectId('67d62e4ebbe7cba8f03e0af6'), ObjectId('67d62e4ebbe7cba8f03e0af7'), ObjectId('67d62e4ebbe7cba8f03e0af8'), ObjectId('67d62e4ebbe7cba8f03e0af9'), ObjectId('67d62e4ebbe7cba8f03e0afa'), ObjectId('67d62e4ebbe7cba8f03e0afb'), ObjectId('67d62e4ebbe7cba8f03e0afc'), ObjectId('67d62e4ebbe7cba8f03e0afd'), ObjectId('67d62e4ebbe7cba8f03e0afe'), ObjectId('67d62e4ebbe7cba8f03e0aff'), ObjectId('67d62e4ebbe7cba8f03e0b00'), ObjectId('67d62e4ebbe7cba8f03e0b01'), ObjectId('67d62e4ebbe7cba8f03e0b02'), ObjectId('67d62e4ebbe7cba8f03e0b03'), ObjectId('67d62e4ebbe7cba8f03e0b04'), ObjectId('67d62e4ebbe7cba8f03e0b05'), ObjectId('67d62e4ebbe7cba8f03e0b06'), ObjectId('67d62e4ebbe7cba8f03e0b07'), ObjectId('67d62e4ebbe7cba8f03e0b08'), ObjectId('67d62e4ebbe7cba8f03e0b09'), ObjectId('67d62e4ebbe7cba8f03e0b0a'), ObjectId('67d62e4ebbe7cba8f03e0b0b'), ObjectId('67d62e4ebbe7cba8f03e0b0c'), ObjectId('67d62e4ebbe7cba8f03e0b0d'), ObjectId('67d62e4ebbe7cba8f03e0b0e'), ObjectId('67d62e4ebbe7cba8f03e0b0f'), ObjectId('67d62e4ebbe7cba8f03e0b10'), ObjectId('67d62e4ebbe7cba8f03e0b11'), ObjectId('67d62e4ebbe7cba8f03e0b12'), ObjectId('67d62e4ebbe7cba8f03e0b13'), ObjectId('67d62e4ebbe7cba8f03e0b14'), ObjectId('67d62e4ebbe7cba8f03e0b15'), ObjectId('67d62e4ebbe7cba8f03e0b16'), ObjectId('67d62e4ebbe7cba8f03e0b17'), ObjectId('67d62e4ebbe7cba8f03e0b18'), ObjectId('67d62e4ebbe7cba8f03e0b19'), ObjectId('67d62e4ebbe7cba8f03e0b1a'), ObjectId('67d62e4ebbe7cba8f03e0b1b'), ObjectId('67d62e4ebbe7cba8f03e0b1c'), ObjectId('67d62e4ebbe7cba8f03e0b1d'), ObjectId('67d62e4ebbe7cba8f03e0b1e'), ObjectId('67d62e4ebbe7cba8f03e0b1f'), ObjectId('67d62e4ebbe7cba8f03e0b20'), ObjectId('67d62e4ebbe7cba8f03e0b21'), ObjectId('67d62e4ebbe7cba8f03e0b22'), ObjectId('67d62e4ebbe7cba8f03e0b23'), ObjectId('67d62e4ebbe7cba8f03e0b24'), ObjectId('67d62e4ebbe7cba8f03e0b25'), ObjectId('67d62e4ebbe7cba8f03e0b26'), ObjectId('67d62e4ebbe7cba8f03e0b27'), ObjectId('67d62e4ebbe7cba8f03e0b28'), ObjectId('67d62e4ebbe7cba8f03e0b29'), ObjectId('67d62e4ebbe7cba8f03e0b2a'), ObjectId('67d62e4ebbe7cba8f03e0b2b'), ObjectId('67d62e4ebbe7cba8f03e0b2c'), ObjectId('67d62e4ebbe7cba8f03e0b2d'), ObjectId('67d62e4ebbe7cba8f03e0b2e'), ObjectId('67d62e4ebbe7cba8f03e0b2f'), ObjectId('67d62e4ebbe7cba8f03e0b30'), ObjectId('67d62e4ebbe7cba8f03e0b31'), ObjectId('67d62e4ebbe7cba8f03e0b32'), ObjectId('67d62e4ebbe7cba8f03e0b33'), ObjectId('67d62e4ebbe7cba8f03e0b34'), ObjectId('67d62e4ebbe7cba8f03e0b35'), ObjectId('67d62e4ebbe7cba8f03e0b36'), ObjectId('67d62e4ebbe7cba8f03e0b37'), ObjectId('67d62e4ebbe7cba8f03e0b38'), ObjectId('67d62e4ebbe7cba8f03e0b39'), ObjectId('67d62e4ebbe7cba8f03e0b3a'), ObjectId('67d62e4ebbe7cba8f03e0b3b'), ObjectId('67d62e4ebbe7cba8f03e0b3c'), ObjectId('67d62e4ebbe7cba8f03e0b3d'), ObjectId('67d62e4ebbe7cba8f03e0b3e'), ObjectId('67d62e4ebbe7cba8f03e0b3f'), ObjectId('67d62e4ebbe7cba8f03e0b40'), ObjectId('67d62e4ebbe7cba8f03e0b41'), ObjectId('67d62e4ebbe7cba8f03e0b42'), ObjectId('67d62e4ebbe7cba8f03e0b43'), ObjectId('67d62e4ebbe7cba8f03e0b44'), ObjectId('67d62e4ebbe7cba8f03e0b45'), ObjectId('67d62e4ebbe7cba8f03e0b46'), ObjectId('67d62e4ebbe7cba8f03e0b47'), ObjectId('67d62e4ebbe7cba8f03e0b48'), ObjectId('67d62e4ebbe7cba8f03e0b49'), ObjectId('67d62e4ebbe7cba8f03e0b4a'), ObjectId('67d62e4ebbe7cba8f03e0b4b'), ObjectId('67d62e4ebbe7cba8f03e0b4c'), ObjectId('67d62e4ebbe7cba8f03e0b4d'), ObjectId('67d62e4ebbe7cba8f03e0b4e'), ObjectId('67d62e4ebbe7cba8f03e0b4f'), ObjectId('67d62e4ebbe7cba8f03e0b50'), ObjectId('67d62e4ebbe7cba8f03e0b51'), ObjectId('67d62e4ebbe7cba8f03e0b52'), ObjectId('67d62e4ebbe7cba8f03e0b53'), ObjectId('67d62e4ebbe7cba8f03e0b54'), ObjectId('67d62e4ebbe7cba8f03e0b55'), ObjectId('67d62e4ebbe7cba8f03e0b56'), ObjectId('67d62e4ebbe7cba8f03e0b57'), ObjectId('67d62e4ebbe7cba8f03e0b58'), ObjectId('67d62e4ebbe7cba8f03e0b59'), ObjectId('67d62e4ebbe7cba8f03e0b5a'), ObjectId('67d62e4ebbe7cba8f03e0b5b'), ObjectId('67d62e4ebbe7cba8f03e0b5c'), ObjectId('67d62e4ebbe7cba8f03e0b5d'), ObjectId('67d62e4ebbe7cba8f03e0b5e'), ObjectId('67d62e4ebbe7cba8f03e0b5f'), ObjectId('67d62e4ebbe7cba8f03e0b60'), ObjectId('67d62e4ebbe7cba8f03e0b61'), ObjectId('67d62e4ebbe7cba8f03e0b62'), ObjectId('67d62e4ebbe7cba8f03e0b63'), ObjectId('67d62e4ebbe7cba8f03e0b64'), ObjectId('67d62e4ebbe7cba8f03e0b65'), ObjectId('67d62e4ebbe7cba8f03e0b66'), ObjectId('67d62e4ebbe7cba8f03e0b67'), ObjectId('67d62e4ebbe7cba8f03e0b68'), ObjectId('67d62e4ebbe7cba8f03e0b69'), ObjectId('67d62e4ebbe7cba8f03e0b6a'), ObjectId('67d62e4ebbe7cba8f03e0b6b'), ObjectId('67d62e4ebbe7cba8f03e0b6c'), ObjectId('67d62e4ebbe7cba8f03e0b6d'), ObjectId('67d62e4ebbe7cba8f03e0b6e'), ObjectId('67d62e4ebbe7cba8f03e0b6f'), ObjectId('67d62e4ebbe7cba8f03e0b70'), ObjectId('67d62e4ebbe7cba8f03e0b71'), ObjectId('67d62e4ebbe7cba8f03e0b72'), ObjectId('67d62e4ebbe7cba8f03e0b73'), ObjectId('67d62e4ebbe7cba8f03e0b74'), ObjectId('67d62e4ebbe7cba8f03e0b75'), ObjectId('67d62e4ebbe7cba8f03e0b76'), ObjectId('67d62e4ebbe7cba8f03e0b77'), ObjectId('67d62e4ebbe7cba8f03e0b78'), ObjectId('67d62e4ebbe7cba8f03e0b79'), ObjectId('67d62e4ebbe7cba8f03e0b7a'), ObjectId('67d62e4ebbe7cba8f03e0b7b'), ObjectId('67d62e4ebbe7cba8f03e0b7c'), ObjectId('67d62e4ebbe7cba8f03e0b7d'), ObjectId('67d62e4ebbe7cba8f03e0b7e'), ObjectId('67d62e4ebbe7cba8f03e0b7f'), ObjectId('67d62e4ebbe7cba8f03e0b80'), ObjectId('67d62e4ebbe7cba8f03e0b81'), ObjectId('67d62e4ebbe7cba8f03e0b82'), ObjectId('67d62e4ebbe7cba8f03e0b83'), ObjectId('67d62e4ebbe7cba8f03e0b84'), ObjectId('67d62e4ebbe7cba8f03e0b85'), ObjectId('67d62e4ebbe7cba8f03e0b86'), ObjectId('67d62e4ebbe7cba8f03e0b87'), ObjectId('67d62e4ebbe7cba8f03e0b88'), ObjectId('67d62e4ebbe7cba8f03e0b89'), ObjectId('67d62e4ebbe7cba8f03e0b8a'), ObjectId('67d62e4ebbe7cba8f03e0b8b'), ObjectId('67d62e4ebbe7cba8f03e0b8c'), ObjectId('67d62e4ebbe7cba8f03e0b8d'), ObjectId('67d62e4ebbe7cba8f03e0b8e'), ObjectId('67d62e4ebbe7cba8f03e0b8f'), ObjectId('67d62e4ebbe7cba8f03e0b90'), ObjectId('67d62e4ebbe7cba8f03e0b91'), ObjectId('67d62e4ebbe7cba8f03e0b92'), ObjectId('67d62e4ebbe7cba8f03e0b93'), ObjectId('67d62e4ebbe7cba8f03e0b94'), ObjectId('67d62e4ebbe7cba8f03e0b95'), ObjectId('67d62e4ebbe7cba8f03e0b96'), ObjectId('67d62e4ebbe7cba8f03e0b97'), ObjectId('67d62e4ebbe7cba8f03e0b98'), ObjectId('67d62e4ebbe7cba8f03e0b99'), ObjectId('67d62e4ebbe7cba8f03e0b9a'), ObjectId('67d62e4ebbe7cba8f03e0b9b'), ObjectId('67d62e4ebbe7cba8f03e0b9c'), ObjectId('67d62e4ebbe7cba8f03e0b9d'), ObjectId('67d62e4ebbe7cba8f03e0b9e'), ObjectId('67d62e4ebbe7cba8f03e0b9f'), ObjectId('67d62e4ebbe7cba8f03e0ba0'), ObjectId('67d62e4ebbe7cba8f03e0ba1'), ObjectId('67d62e4ebbe7cba8f03e0ba2'), ObjectId('67d62e4ebbe7cba8f03e0ba3'), ObjectId('67d62e4ebbe7cba8f03e0ba4'), ObjectId('67d62e4ebbe7cba8f03e0ba5'), ObjectId('67d62e4ebbe7cba8f03e0ba6'), ObjectId('67d62e4ebbe7cba8f03e0ba7'), ObjectId('67d62e4ebbe7cba8f03e0ba8'), ObjectId('67d62e4ebbe7cba8f03e0ba9'), ObjectId('67d62e4ebbe7cba8f03e0baa'), ObjectId('67d62e4ebbe7cba8f03e0bab'), ObjectId('67d62e4ebbe7cba8f03e0bac'), ObjectId('67d62e4ebbe7cba8f03e0bad'), ObjectId('67d62e4ebbe7cba8f03e0bae'), ObjectId('67d62e4ebbe7cba8f03e0baf'), ObjectId('67d62e4ebbe7cba8f03e0bb0'), ObjectId('67d62e4ebbe7cba8f03e0bb1'), ObjectId('67d62e4ebbe7cba8f03e0bb2'), ObjectId('67d62e4ebbe7cba8f03e0bb3'), ObjectId('67d62e4ebbe7cba8f03e0bb4'), ObjectId('67d62e4ebbe7cba8f03e0bb5'), ObjectId('67d62e4ebbe7cba8f03e0bb6'), ObjectId('67d62e4ebbe7cba8f03e0bb7'), ObjectId('67d62e4ebbe7cba8f03e0bb8'), ObjectId('67d62e4ebbe7cba8f03e0bb9'), ObjectId('67d62e4ebbe7cba8f03e0bba'), ObjectId('67d62e4ebbe7cba8f03e0bbb'), ObjectId('67d62e4ebbe7cba8f03e0bbc'), ObjectId('67d62e4ebbe7cba8f03e0bbd'), ObjectId('67d62e4ebbe7cba8f03e0bbe'), ObjectId('67d62e4ebbe7cba8f03e0bbf'), ObjectId('67d62e4ebbe7cba8f03e0bc0'), ObjectId('67d62e4ebbe7cba8f03e0bc1'), ObjectId('67d62e4ebbe7cba8f03e0bc2'), ObjectId('67d62e4ebbe7cba8f03e0bc3'), ObjectId('67d62e4ebbe7cba8f03e0bc4'), ObjectId('67d62e4ebbe7cba8f03e0bc5'), ObjectId('67d62e4ebbe7cba8f03e0bc6'), ObjectId('67d62e4ebbe7cba8f03e0bc7'), ObjectId('67d62e4ebbe7cba8f03e0bc8'), ObjectId('67d62e4ebbe7cba8f03e0bc9'), ObjectId('67d62e4ebbe7cba8f03e0bca'), ObjectId('67d62e4ebbe7cba8f03e0bcb'), ObjectId('67d62e4ebbe7cba8f03e0bcc'), ObjectId('67d62e4ebbe7cba8f03e0bcd'), ObjectId('67d62e4ebbe7cba8f03e0bce'), ObjectId('67d62e4ebbe7cba8f03e0bcf'), ObjectId('67d62e4ebbe7cba8f03e0bd0'), ObjectId('67d62e4ebbe7cba8f03e0bd1'), ObjectId('67d62e4ebbe7cba8f03e0bd2'), ObjectId('67d62e4ebbe7cba8f03e0bd3'), ObjectId('67d62e4ebbe7cba8f03e0bd4'), ObjectId('67d62e4ebbe7cba8f03e0bd5'), ObjectId('67d62e4ebbe7cba8f03e0bd6'), ObjectId('67d62e4ebbe7cba8f03e0bd7'), ObjectId('67d62e4ebbe7cba8f03e0bd8'), ObjectId('67d62e4ebbe7cba8f03e0bd9'), ObjectId('67d62e4ebbe7cba8f03e0bda'), ObjectId('67d62e4ebbe7cba8f03e0bdb'), ObjectId('67d62e4ebbe7cba8f03e0bdc'), ObjectId('67d62e4ebbe7cba8f03e0bdd'), ObjectId('67d62e4ebbe7cba8f03e0bde'), ObjectId('67d62e4ebbe7cba8f03e0bdf'), ObjectId('67d62e4ebbe7cba8f03e0be0'), ObjectId('67d62e4ebbe7cba8f03e0be1'), ObjectId('67d62e4ebbe7cba8f03e0be2'), ObjectId('67d62e4ebbe7cba8f03e0be3'), ObjectId('67d62e4ebbe7cba8f03e0be4'), ObjectId('67d62e4ebbe7cba8f03e0be5'), ObjectId('67d62e4ebbe7cba8f03e0be6'), ObjectId('67d62e4ebbe7cba8f03e0be7'), ObjectId('67d62e4ebbe7cba8f03e0be8'), ObjectId('67d62e4ebbe7cba8f03e0be9'), ObjectId('67d62e4ebbe7cba8f03e0bea'), ObjectId('67d62e4ebbe7cba8f03e0beb'), ObjectId('67d62e4ebbe7cba8f03e0bec'), ObjectId('67d62e4ebbe7cba8f03e0bed'), ObjectId('67d62e4ebbe7cba8f03e0bee'), ObjectId('67d62e4ebbe7cba8f03e0bef'), ObjectId('67d62e4ebbe7cba8f03e0bf0'), ObjectId('67d62e4ebbe7cba8f03e0bf1'), ObjectId('67d62e4ebbe7cba8f03e0bf2'), ObjectId('67d62e4ebbe7cba8f03e0bf3'), ObjectId('67d62e4ebbe7cba8f03e0bf4'), ObjectId('67d62e4ebbe7cba8f03e0bf5'), ObjectId('67d62e4ebbe7cba8f03e0bf6'), ObjectId('67d62e4ebbe7cba8f03e0bf7'), ObjectId('67d62e4ebbe7cba8f03e0bf8'), ObjectId('67d62e4ebbe7cba8f03e0bf9'), ObjectId('67d62e4ebbe7cba8f03e0bfa'), ObjectId('67d62e4ebbe7cba8f03e0bfb'), ObjectId('67d62e4ebbe7cba8f03e0bfc'), ObjectId('67d62e4ebbe7cba8f03e0bfd'), ObjectId('67d62e4ebbe7cba8f03e0bfe'), ObjectId('67d62e4ebbe7cba8f03e0bff'), ObjectId('67d62e4ebbe7cba8f03e0c00'), ObjectId('67d62e4ebbe7cba8f03e0c01'), ObjectId('67d62e4ebbe7cba8f03e0c02'), ObjectId('67d62e4ebbe7cba8f03e0c03'), ObjectId('67d62e4ebbe7cba8f03e0c04'), ObjectId('67d62e4ebbe7cba8f03e0c05'), ObjectId('67d62e4ebbe7cba8f03e0c06'), ObjectId('67d62e4ebbe7cba8f03e0c07'), ObjectId('67d62e4ebbe7cba8f03e0c08'), ObjectId('67d62e4ebbe7cba8f03e0c09'), ObjectId('67d62e4ebbe7cba8f03e0c0a'), ObjectId('67d62e4ebbe7cba8f03e0c0b'), ObjectId('67d62e4ebbe7cba8f03e0c0c'), ObjectId('67d62e4ebbe7cba8f03e0c0d'), ObjectId('67d62e4ebbe7cba8f03e0c0e'), ObjectId('67d62e4ebbe7cba8f03e0c0f'), ObjectId('67d62e4ebbe7cba8f03e0c10'), ObjectId('67d62e4ebbe7cba8f03e0c11'), ObjectId('67d62e4ebbe7cba8f03e0c12'), ObjectId('67d62e4ebbe7cba8f03e0c13'), ObjectId('67d62e4ebbe7cba8f03e0c14'), ObjectId('67d62e4ebbe7cba8f03e0c15'), ObjectId('67d62e4ebbe7cba8f03e0c16'), ObjectId('67d62e4ebbe7cba8f03e0c17'), ObjectId('67d62e4ebbe7cba8f03e0c18'), ObjectId('67d62e4ebbe7cba8f03e0c19'), ObjectId('67d62e4ebbe7cba8f03e0c1a'), ObjectId('67d62e4ebbe7cba8f03e0c1b'), ObjectId('67d62e4ebbe7cba8f03e0c1c'), ObjectId('67d62e4ebbe7cba8f03e0c1d'), ObjectId('67d62e4ebbe7cba8f03e0c1e'), ObjectId('67d62e4ebbe7cba8f03e0c1f'), ObjectId('67d62e4ebbe7cba8f03e0c20'), ObjectId('67d62e4ebbe7cba8f03e0c21'), ObjectId('67d62e4ebbe7cba8f03e0c22'), ObjectId('67d62e4ebbe7cba8f03e0c23'), ObjectId('67d62e4ebbe7cba8f03e0c24'), ObjectId('67d62e4ebbe7cba8f03e0c25'), ObjectId('67d62e4ebbe7cba8f03e0c26'), ObjectId('67d62e4ebbe7cba8f03e0c27'), ObjectId('67d62e4ebbe7cba8f03e0c28'), ObjectId('67d62e4ebbe7cba8f03e0c29')]\n"
     ]
    }
   ],
   "source": [
    "import pandas as pd\n",
    "from pymongo import MongoClient\n",
    "\n",
    "# Step 1: Read the Excel file\n",
    "csv_file_path = 'gym_membership.csv'\n",
    "df = pd.read_csv(csv_file_path)\n",
    "\n",
    "# Display the first few rows of the DataFrame\n",
    "print(\"Data from csv file:\")\n",
    "print(df.head())\n",
    "\n",
    "# Step 2: Connect to MongoDB\n",
    "client = MongoClient(\"mongodb://localhost:27017/\")\n",
    "db = client[\"gym_membership\"]\n",
    "collection = db[\"members\"]\n",
    "\n",
    "# Step 3: Convert DataFrame to a list of dictionaries\n",
    "data = df.to_dict(orient='records')\n",
    "\n",
    "# Step 4: Insert data into MongoDB collection\n",
    "result = collection.insert_many(data)\n",
    "\n",
    "# Output the IDs of the inserted documents\n",
    "print(\"Inserted document IDs:\", result.inserted_ids)\n"
   ]
  },
  {
   "cell_type": "code",
   "execution_count": 17,
   "id": "443687ac-d850-4b6f-bbd0-c08e6c767699",
   "metadata": {},
   "outputs": [
    {
     "name": "stdout",
     "output_type": "stream",
     "text": [
      "collection created successfully\n"
     ]
    }
   ],
   "source": [
    "from pymongo import MongoClient\n",
    "\n",
    "client = MongoClient('mongodb://localhost:27017/')\n",
    "db = client['gym_membership']\n",
    "\n",
    "db.create_collection('memberss')\n",
    "\n",
    "print('collection created successfully')"
   ]
  },
  {
   "cell_type": "markdown",
   "id": "f78591ea-86a2-45ee-be3d-83d0616c1f25",
   "metadata": {},
   "source": [
    "## transfering a data from collection to collection inside the database"
   ]
  },
  {
   "cell_type": "code",
   "execution_count": 28,
   "id": "d237590b-563b-4af7-8a40-8542dfc2008e",
   "metadata": {
    "scrolled": true
   },
   "outputs": [
    {
     "name": "stdout",
     "output_type": "stream",
     "text": [
      "Total documents in the source collection: 1003\n",
      "Number of documents to transfer: 501\n",
      "Transferred 501 documents to target collection.\n",
      "Deleted 501 documents from source collection.\n",
      "Documents remaining in source collection: 502\n",
      "Documents in target collection: 501\n"
     ]
    }
   ],
   "source": [
    "from pymongo import MongoClient\n",
    "\n",
    "client = MongoClient('mongodb://localhost:27017/')\n",
    "db = client['gym_membership']\n",
    "\n",
    "# access the collections in the database\n",
    "source_collection = db['members']\n",
    "target_collection = db['memberss']\n",
    "\n",
    "# count all the documents in he source collection\n",
    "total_documents = source_collection.count_documents({})\n",
    "print(f\"Total documents in the source collection: {total_documents}\")\n",
    "\n",
    "# calculate half the documents\n",
    "half_count = total_documents // 2\n",
    "print(f\"Number of documents to transfer: {half_count}\")\n",
    "\n",
    "if half_count == 0:\n",
    "    print(\"No documents to transfer.\")\n",
    "else:\n",
    "    # Step 5: Fetch half of the documents from the source collection\n",
    "    documents_to_transfer = source_collection.find().limit(half_count)\n",
    "    documents_list = list(documents_to_transfer)  # Convert cursor to list\n",
    "    \n",
    "    # Step 6: Insert the documents into the target collection\n",
    "    if documents_list:\n",
    "        target_collection.insert_many(documents_list)\n",
    "        print(f\"Transferred {len(documents_list)} documents to target collection.\")\n",
    "        \n",
    "        # Step 7 (Optional): Delete the transferred documents from the source collection\n",
    "        \n",
    "        # Collect the _id values of the transferred documents\n",
    "        \n",
    "        transferred_ids = [doc['_id'] for doc in documents_list]\n",
    "        source_collection.delete_many({'_id': {'$in': transferred_ids}})\n",
    "        print(f\"Deleted {len(transferred_ids)} documents from source collection.\")\n",
    "        \n",
    "        # Step 8: Verify the collections\n",
    "        \n",
    "        print(f\"Documents remaining in source collection: {source_collection.count_documents({})}\")\n",
    "        print(f\"Documents in target collection: {target_collection.count_documents({})}\")\n",
    "        \n",
    "    # Step 9: Close the connection\n",
    "client.close()\n"
   ]
  },
  {
   "cell_type": "markdown",
   "id": "8ea12acc-7c9c-4463-bc0e-deba2c4c9a67",
   "metadata": {},
   "source": [
    "## copy the data from source database to target(new) database"
   ]
  },
  {
   "cell_type": "code",
   "execution_count": 5,
   "id": "04a8e318-dad8-43f4-a6e0-7fcb13a91d52",
   "metadata": {},
   "outputs": [
    {
     "name": "stdout",
     "output_type": "stream",
     "text": [
      "Copied 502 documents from members to the new database.\n",
      "Copied 501 documents from memberss to the new database.\n",
      "Data copy process completed successfully!\n"
     ]
    }
   ],
   "source": [
    "from pymongo import MongoClient\n",
    "\n",
    "# Connect to MongoDB properly\n",
    "client = MongoClient('mongodb://localhost:27017/')\n",
    "\n",
    "# Specify the source and target databases\n",
    "source_db = client['gym_membership']  # Access source database\n",
    "target_db = client['gym_membership_backup']  # Create/access target database\n",
    "\n",
    "# Get all collections in the source database\n",
    "collections = source_db.list_collection_names()\n",
    "\n",
    "for collection_name in collections:\n",
    "    source_collection = source_db[collection_name]\n",
    "    target_collection = target_db[collection_name]\n",
    "\n",
    "    # Fetch all documents from the source collection\n",
    "    documents = list(source_collection.find())\n",
    "\n",
    "    if documents:\n",
    "        target_collection.insert_many(documents)\n",
    "        print(f\"Copied {len(documents)} documents from {collection_name} to the new database.\")\n",
    "\n",
    "print(\"Data copy process completed successfully!\")\n",
    "\n",
    "# Close the MongoDB connection\n",
    "client.close()\n"
   ]
  },
  {
   "cell_type": "code",
   "execution_count": null,
   "id": "5ad8ca58-33fb-4c91-a054-e0ab02a3d957",
   "metadata": {},
   "outputs": [],
   "source": []
  }
 ],
 "metadata": {
  "kernelspec": {
   "display_name": "Python 3 (ipykernel)",
   "language": "python",
   "name": "python3"
  },
  "language_info": {
   "codemirror_mode": {
    "name": "ipython",
    "version": 3
   },
   "file_extension": ".py",
   "mimetype": "text/x-python",
   "name": "python",
   "nbconvert_exporter": "python",
   "pygments_lexer": "ipython3",
   "version": "3.13.2"
  }
 },
 "nbformat": 4,
 "nbformat_minor": 5
}
